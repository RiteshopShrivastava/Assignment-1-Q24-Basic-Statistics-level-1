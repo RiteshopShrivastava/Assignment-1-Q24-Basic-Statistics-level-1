{
  "nbformat": 4,
  "nbformat_minor": 0,
  "metadata": {
    "colab": {
      "name": "Assignment-1-Q24-Basic Statistics level-1.ipynb",
      "provenance": [],
      "collapsed_sections": [],
      "authorship_tag": "ABX9TyPn5To5pzul/85py6Tef6xv",
      "include_colab_link": true
    },
    "kernelspec": {
      "name": "python3",
      "display_name": "Python 3"
    },
    "language_info": {
      "name": "python"
    }
  },
  "cells": [
    {
      "cell_type": "markdown",
      "metadata": {
        "id": "view-in-github",
        "colab_type": "text"
      },
      "source": [
        "<a href=\"https://colab.research.google.com/github/RiteshopShrivastava/Assignment-1-Q24-Basic-Statistics-level-1/blob/main/Assignment_1_Q24_Basic_Statistics_level_1.ipynb\" target=\"_parent\"><img src=\"https://colab.research.google.com/assets/colab-badge.svg\" alt=\"Open In Colab\"/></a>"
      ]
    },
    {
      "cell_type": "markdown",
      "metadata": {
        "id": "pJQI4cID2j-o"
      },
      "source": [
        "Q 24) A Government company claims that an average light bulb lasts 270 days. A researcher randomly selects 18 bulbs for testing. The sampled bulbs last an average of 260 days, with a standard deviation of 90 days. If the CEO's claim were true, what is the probability that 18 randomly selected bulbs would have an average life of no more than 260 days"
      ]
    },
    {
      "cell_type": "code",
      "metadata": {
        "id": "dTS-GVSh2jB6"
      },
      "source": [
        "from scipy import stats\n",
        "import numpy as np"
      ],
      "execution_count": 7,
      "outputs": []
    },
    {
      "cell_type": "markdown",
      "metadata": {
        "id": "iEqZNwzf26Vp"
      },
      "source": [
        "Pop mean =270 days, Sample mean = 260 days, Sample SD = 90 days, Sample size n = 18 bulbs, df = n-1 = 17"
      ]
    },
    {
      "cell_type": "code",
      "metadata": {
        "id": "DTGWH6sw241J"
      },
      "source": [
        "# Null hypothesis Ho = average life of bulb >= 260 days\n",
        "# Alternate hypothesis Ha = avaerage life of bulb < 260 days"
      ],
      "execution_count": null,
      "outputs": []
    },
    {
      "cell_type": "markdown",
      "metadata": {
        "id": "njv_bRdj4f63"
      },
      "source": [
        "Since the sample size is small (less than 30), and population SD is not known, therefore we use t-distribution"
      ]
    },
    {
      "cell_type": "code",
      "metadata": {
        "colab": {
          "base_uri": "https://localhost:8080/"
        },
        "id": "5z8CU5tC25B7",
        "outputId": "e796d833-d603-4cae-c2e4-c56e205c23e3"
      },
      "source": [
        "# find t-scores at x=260; t=(s_mean-P_mean)/(s_SD/sqrt(n))\n",
        "t=(260-270)/(90/np.sqrt(18))\n",
        "print('t score:',t)"
      ],
      "execution_count": 13,
      "outputs": [
        {
          "output_type": "stream",
          "text": [
            "t score: -0.4714045207910317\n"
          ],
          "name": "stdout"
        }
      ]
    },
    {
      "cell_type": "code",
      "metadata": {
        "colab": {
          "base_uri": "https://localhost:8080/"
        },
        "id": "ws6x3sN2MeMw",
        "outputId": "a3cd7ff6-7173-4b61-c4ad-9af337988b2a"
      },
      "source": [
        "#stats.t.cdf(abs(t_scores),df=n-1)\n",
        "1-stats.t.cdf(abs(-.4714),df=17)"
      ],
      "execution_count": 21,
      "outputs": [
        {
          "output_type": "execute_result",
          "data": {
            "text/plain": [
              "0.32167411684460556"
            ]
          },
          "metadata": {
            "tags": []
          },
          "execution_count": 21
        }
      ]
    },
    {
      "cell_type": "markdown",
      "metadata": {
        "id": "U8lwDEyDIC3u"
      },
      "source": [
        "we can calculate P value in two ways\n",
        "\n",
        "1. By cummulative distribution function cdf\n",
        "2. By Survival function sf"
      ]
    },
    {
      "cell_type": "code",
      "metadata": {
        "colab": {
          "base_uri": "https://localhost:8080/"
        },
        "id": "v4GPfErK25El",
        "outputId": "02ad83b6-0bc0-4420-f5a9-ba049b90953e"
      },
      "source": [
        "# using survival function ******sf=(1-cdf)}******\n",
        "\n",
        "# p_value=stats.t.sf(abs(t_score),df=n-1)\n",
        "p_value=stats.t.sf(abs(-0.4714),df=17)\n",
        "p_value"
      ],
      "execution_count": 20,
      "outputs": [
        {
          "output_type": "execute_result",
          "data": {
            "text/plain": [
              "0.32167411684460556"
            ]
          },
          "metadata": {
            "tags": []
          },
          "execution_count": 20
        }
      ]
    },
    {
      "cell_type": "markdown",
      "metadata": {
        "id": "bqnj6nzr6Oc4"
      },
      "source": [
        "Since the p-value (.32) is greater than alpha(0.05), so accept null hypothesis. Therfore average life of a bulb is >= 260 days is true, and the probability that 18 randomly selected bulbs would have an average life of no more than 260 days is .3216 i.e 32% chances"
      ]
    }
  ]
}