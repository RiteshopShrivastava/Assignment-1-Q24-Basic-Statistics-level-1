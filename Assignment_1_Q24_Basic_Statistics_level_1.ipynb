{
  "nbformat": 4,
  "nbformat_minor": 0,
  "metadata": {
    "colab": {
      "name": "Assignment-1-Q24-Basic Statistics level-1.ipynb",
      "provenance": [],
      "collapsed_sections": [],
      "authorship_tag": "ABX9TyNpZWoGToELNnnA7RB71bIp",
      "include_colab_link": true
    },
    "kernelspec": {
      "name": "python3",
      "display_name": "Python 3"
    },
    "language_info": {
      "name": "python"
    }
  },
  "cells": [
    {
      "cell_type": "markdown",
      "metadata": {
        "id": "view-in-github",
        "colab_type": "text"
      },
      "source": [
        "<a href=\"https://colab.research.google.com/github/RiteshopShrivastava/Assignment-1-Q24-Basic-Statistics-level-1/blob/main/Assignment_1_Q24_Basic_Statistics_level_1.ipynb\" target=\"_parent\"><img src=\"https://colab.research.google.com/assets/colab-badge.svg\" alt=\"Open In Colab\"/></a>"
      ]
    },
    {
      "cell_type": "markdown",
      "metadata": {
        "id": "pJQI4cID2j-o"
      },
      "source": [
        "Q 24) A Government company claims that an average light bulb lasts 270 days. A researcher randomly selects 18 bulbs for testing. The sampled bulbs last an average of 260 days, with a standard deviation of 90 days. If the CEO's claim were true, what is the probability that 18 randomly selected bulbs would have an average life of no more than 260 days"
      ]
    },
    {
      "cell_type": "code",
      "metadata": {
        "id": "dTS-GVSh2jB6"
      },
      "source": [
        "from scipy import stats\n",
        "import numpy as np"
      ],
      "execution_count": 7,
      "outputs": []
    },
    {
      "cell_type": "markdown",
      "metadata": {
        "id": "iEqZNwzf26Vp"
      },
      "source": [
        "Pop mean =270 days, Sample mean = 260 days, Sample SD = 90 days, Sample size n = 18 bulbs, df = n-1 = 17"
      ]
    },
    {
      "cell_type": "code",
      "metadata": {
        "id": "DTGWH6sw241J"
      },
      "source": [
        "# Null hypothesis Ho = average life of bulb >= 260 days\n",
        "# Alternate hypothesis Ha = avaerage life of bulb < 260 days"
      ],
      "execution_count": null,
      "outputs": []
    },
    {
      "cell_type": "markdown",
      "metadata": {
        "id": "njv_bRdj4f63"
      },
      "source": [
        "Since the sample size is small (less than 30), and population SD is not known, therefore we use t-distribution"
      ]
    },
    {
      "cell_type": "code",
      "metadata": {
        "colab": {
          "base_uri": "https://localhost:8080/"
        },
        "id": "5z8CU5tC25B7",
        "outputId": "b54eda04-f28d-4c29-b7a9-7047db01423d"
      },
      "source": [
        "# find t-scores at x=260; t=(s_mean-P_mean)/(s_SD/sqrt(n))\n",
        "t=(260-270)/(90/np.sqrt(18))\n",
        "t"
      ],
      "execution_count": 8,
      "outputs": [
        {
          "output_type": "execute_result",
          "data": {
            "text/plain": [
              "-0.4714045207910317"
            ]
          },
          "metadata": {
            "tags": []
          },
          "execution_count": 8
        }
      ]
    },
    {
      "cell_type": "markdown",
      "metadata": {
        "id": "U8lwDEyDIC3u"
      },
      "source": [
        "we can calculate P(X>=260) in two ways\n",
        "\n",
        "1. By cummulative distribution function cdf\n",
        "2. By Survival function sf"
      ]
    },
    {
      "cell_type": "code",
      "metadata": {
        "colab": {
          "base_uri": "https://localhost:8080/"
        },
        "id": "v4GPfErK25El",
        "outputId": "ae37ffe5-de7a-4cae-97aa-84ceff21d502"
      },
      "source": [
        "# using survival function ******sf=(1-cdf)}******\n",
        "\n",
        "# p_value=stats.t.sf(abs(t_score),df=n-1)\n",
        "p_value=stats.t.sf(abs(-0.4714),df=17)\n",
        "print('Probability value for x>=260 is :',p_value)"
      ],
      "execution_count": 10,
      "outputs": [
        {
          "output_type": "stream",
          "text": [
            "Probability value fo x>=260 is : 0.32167411684460556\n"
          ],
          "name": "stdout"
        }
      ]
    },
    {
      "cell_type": "markdown",
      "metadata": {
        "id": "bqnj6nzr6Oc4"
      },
      "source": [
        "Since the p-value (.32) is greater than alpha(0.05), so accept null hypothesis. Therfore average life of a bulb is >= 260 days is true"
      ]
    },
    {
      "cell_type": "code",
      "metadata": {
        "id": "uYU0HnQz25HX"
      },
      "source": [
        ""
      ],
      "execution_count": null,
      "outputs": []
    },
    {
      "cell_type": "code",
      "metadata": {
        "id": "T03ku38a25Jm"
      },
      "source": [
        ""
      ],
      "execution_count": null,
      "outputs": []
    },
    {
      "cell_type": "code",
      "metadata": {
        "id": "GEtVyiBk25MG"
      },
      "source": [
        ""
      ],
      "execution_count": null,
      "outputs": []
    },
    {
      "cell_type": "code",
      "metadata": {
        "id": "rdktJrt125Ph"
      },
      "source": [
        ""
      ],
      "execution_count": null,
      "outputs": []
    }
  ]
}